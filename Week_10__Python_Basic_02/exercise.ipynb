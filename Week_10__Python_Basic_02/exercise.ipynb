{
 "cells": [
  {
   "cell_type": "markdown",
   "id": "a351a23c",
   "metadata": {},
   "source": [
    "Week 10 - Python_Basic_2\n",
    "Chủ đề: Điều kiện, vòng lặp, dictionary/set, list comprehension\n",
    "1) Tóm tắt lý thuyết\n",
    "\t•\tif/elif/else; for/while; break/continue.\n",
    "\t•\tdict: key unique, thao tác get/update/items; set: unique elements, union/intersection.\n",
    "\t•\tComprehension: list/dict/set; generator expression.\n",
    "\t•\tHàm built-in: enumerate, zip, any/all, sum, min/max.\n",
    "2) Bài tập (8 bài)\n",
    "\t1\tWord count: đếm tần suất từ trong văn bản (bỏ dấu câu, lower-case).\n",
    "\t2\tTạo bảng cửu chương 1..9 bằng nested loops.\n",
    "\t3\tTách các từ duy nhất từ câu và in theo alphabet dùng set.\n",
    "\t4\tChuyển list student dict -> dict nhóm theo lớp (class).\n",
    "\t5\tSắp xếp danh sách từ theo độ dài, nếu bằng nhau thì theo alphabet.\n",
    "\t6\tSinh list bình phương các số lẻ từ 1..n bằng list comprehension.\n",
    "\t7\tTạo ma trận n x n danh số tăng dần theo hàng.\n",
    "\t8\tViết trò chơi đoán chữ (hangman mini) bằng vòng lặp.\n",
    "3) Mini Project\n",
    "Trình đọc log: đọc file .txt, đếm lỗi theo cấp độ (INFO/WARN/ERROR) và in thống kê.\n"
   ]
  },
  {
   "cell_type": "code",
   "execution_count": 27,
   "id": "3a0a1fde",
   "metadata": {},
   "outputs": [
    {
     "data": {
      "text/plain": [
       "[('à', 3),\n",
       " ('ơi', 3),\n",
       " ('này', 3),\n",
       " ('trăng', 3),\n",
       " ('cái', 2),\n",
       " ('vẫn', 1),\n",
       " ('bàn', 1),\n",
       " ('tay', 1),\n",
       " ('mẹ', 1),\n",
       " ('dịu', 1),\n",
       " ('dàng', 1),\n",
       " ('ca', 1),\n",
       " ('i', 1),\n",
       " ('vàng', 1),\n",
       " ('ngủ', 1),\n",
       " ('ngon', 1),\n",
       " ('tròn', 1),\n",
       " ('còn', 1),\n",
       " ('nằm', 1),\n",
       " ('nôi', 1)]"
      ]
     },
     "execution_count": 27,
     "metadata": {},
     "output_type": "execute_result"
    }
   ],
   "source": [
    "# 1\tWord count: đếm tần suất từ trong văn bản (bỏ dấu câu, lower-case).\n",
    "import re \n",
    "document = \"\"\"Vẫn bàn tay mẹ dịu dàng\n",
    "À ơi này cái trăng vàng ngủ ngon\n",
    "À ơi này cái trăng tròn\n",
    "À ơi này cái trăng còn nằm nôi ...\"\"\"\n",
    "words = re.findall(r\"[\\w']+\", document.casefold())\n",
    "word_count = {}\n",
    "for word in words:\n",
    "    word_count[word] = word_count.get(word,0) + 1 \n",
    "result = sorted(word_count.items() , key = lambda word: word[1], reverse = True)\n",
    "result \n"
   ]
  },
  {
   "cell_type": "code",
   "execution_count": 28,
   "id": "48f09ed0",
   "metadata": {},
   "outputs": [
    {
     "name": "stdout",
     "output_type": "stream",
     "text": [
      "Bảng cửu chương 1..9 bằng nested loops.\n",
      "Bảng cửu chương số 1:\n",
      "1 * 1 = 1\n",
      "1 * 2 = 2\n",
      "1 * 3 = 3\n",
      "1 * 4 = 4\n",
      "1 * 5 = 5\n",
      "1 * 6 = 6\n",
      "1 * 7 = 7\n",
      "1 * 8 = 8\n",
      "1 * 9 = 9\n",
      "1 * 10 = 10\n",
      "-------------\n",
      "Bảng cửu chương số 2:\n",
      "2 * 1 = 2\n",
      "2 * 2 = 4\n",
      "2 * 3 = 6\n",
      "2 * 4 = 8\n",
      "2 * 5 = 10\n",
      "2 * 6 = 12\n",
      "2 * 7 = 14\n",
      "2 * 8 = 16\n",
      "2 * 9 = 18\n",
      "2 * 10 = 20\n",
      "-------------\n",
      "Bảng cửu chương số 3:\n",
      "3 * 1 = 3\n",
      "3 * 2 = 6\n",
      "3 * 3 = 9\n",
      "3 * 4 = 12\n",
      "3 * 5 = 15\n",
      "3 * 6 = 18\n",
      "3 * 7 = 21\n",
      "3 * 8 = 24\n",
      "3 * 9 = 27\n",
      "3 * 10 = 30\n",
      "-------------\n",
      "Bảng cửu chương số 4:\n",
      "4 * 1 = 4\n",
      "4 * 2 = 8\n",
      "4 * 3 = 12\n",
      "4 * 4 = 16\n",
      "4 * 5 = 20\n",
      "4 * 6 = 24\n",
      "4 * 7 = 28\n",
      "4 * 8 = 32\n",
      "4 * 9 = 36\n",
      "4 * 10 = 40\n",
      "-------------\n",
      "Bảng cửu chương số 5:\n",
      "5 * 1 = 5\n",
      "5 * 2 = 10\n",
      "5 * 3 = 15\n",
      "5 * 4 = 20\n",
      "5 * 5 = 25\n",
      "5 * 6 = 30\n",
      "5 * 7 = 35\n",
      "5 * 8 = 40\n",
      "5 * 9 = 45\n",
      "5 * 10 = 50\n",
      "-------------\n",
      "Bảng cửu chương số 6:\n",
      "6 * 1 = 6\n",
      "6 * 2 = 12\n",
      "6 * 3 = 18\n",
      "6 * 4 = 24\n",
      "6 * 5 = 30\n",
      "6 * 6 = 36\n",
      "6 * 7 = 42\n",
      "6 * 8 = 48\n",
      "6 * 9 = 54\n",
      "6 * 10 = 60\n",
      "-------------\n",
      "Bảng cửu chương số 7:\n",
      "7 * 1 = 7\n",
      "7 * 2 = 14\n",
      "7 * 3 = 21\n",
      "7 * 4 = 28\n",
      "7 * 5 = 35\n",
      "7 * 6 = 42\n",
      "7 * 7 = 49\n",
      "7 * 8 = 56\n",
      "7 * 9 = 63\n",
      "7 * 10 = 70\n",
      "-------------\n",
      "Bảng cửu chương số 8:\n",
      "8 * 1 = 8\n",
      "8 * 2 = 16\n",
      "8 * 3 = 24\n",
      "8 * 4 = 32\n",
      "8 * 5 = 40\n",
      "8 * 6 = 48\n",
      "8 * 7 = 56\n",
      "8 * 8 = 64\n",
      "8 * 9 = 72\n",
      "8 * 10 = 80\n",
      "-------------\n",
      "Bảng cửu chương số 9:\n",
      "9 * 1 = 9\n",
      "9 * 2 = 18\n",
      "9 * 3 = 27\n",
      "9 * 4 = 36\n",
      "9 * 5 = 45\n",
      "9 * 6 = 54\n",
      "9 * 7 = 63\n",
      "9 * 8 = 72\n",
      "9 * 9 = 81\n",
      "9 * 10 = 90\n",
      "-------------\n"
     ]
    }
   ],
   "source": [
    "# 2\tTạo bảng cửu chương 1..9 bằng nested loops.\n",
    "print(\"Bảng cửu chương 1..9 bằng nested loops.\")\n",
    "for i in range(1,10):\n",
    "    print(f'Bảng cửu chương số {i}:')\n",
    "    for j in range(1,11):\n",
    "        print(f\"{i} * {j} = {i*j}\")\n",
    "    else :\n",
    "        print(\"-------------\")"
   ]
  },
  {
   "cell_type": "code",
   "execution_count": 29,
   "id": "e70b43d3",
   "metadata": {},
   "outputs": [
    {
     "data": {
      "text/plain": [
       "[{'bàn',\n",
       "  'ca',\n",
       "  'cái',\n",
       "  'còn',\n",
       "  'dàng',\n",
       "  'dịu',\n",
       "  'i',\n",
       "  'mẹ',\n",
       "  'ngon',\n",
       "  'ngủ',\n",
       "  'này',\n",
       "  'nôi',\n",
       "  'nằm',\n",
       "  'tay',\n",
       "  'tròn',\n",
       "  'trăng',\n",
       "  'vàng',\n",
       "  'vẫn',\n",
       "  'à',\n",
       "  'ơi'}]"
      ]
     },
     "execution_count": 29,
     "metadata": {},
     "output_type": "execute_result"
    }
   ],
   "source": [
    "# 3\tTách các từ duy nhất từ câu và in theo alphabet dùng set.\n",
    "sentence = \"Tách các từ duy nhất từ câu và in theo alphabet dùng set\"\n",
    "words = [set(re.findall(r\"[\\w']+\", document.casefold()))]\n",
    "words.sort()\n",
    "words\n",
    "\t"
   ]
  },
  {
   "cell_type": "code",
   "execution_count": 30,
   "id": "080e0f85",
   "metadata": {},
   "outputs": [
    {
     "data": {
      "text/plain": [
       "{'10A1': [{'id': 'S001', 'name': 'An', 'class': '10A1'},\n",
       "  {'id': 'S003', 'name': 'Cường', 'class': '10A1'},\n",
       "  {'id': 'S006', 'name': 'Lan', 'class': '10A1'}],\n",
       " '10A2': [{'id': 'S002', 'name': 'Bình', 'class': '10A2'},\n",
       "  {'id': 'S005', 'name': 'Hương', 'class': '10A2'}],\n",
       " '10A3': [{'id': 'S004', 'name': 'Dũng', 'class': '10A3'}]}"
      ]
     },
     "execution_count": 30,
     "metadata": {},
     "output_type": "execute_result"
    }
   ],
   "source": [
    "# 4\tChuyển list student dict -> dict nhóm theo lớp (class).\n",
    "\t# Đầu vào: List các sinh viên (dict)\n",
    "students_list = [\n",
    "    {'id': 'S001', 'name': 'An', 'class': '10A1'},\n",
    "    {'id': 'S002', 'name': 'Bình', 'class': '10A2'},\n",
    "    {'id': 'S003', 'name': 'Cường', 'class': '10A1'},\n",
    "    {'id': 'S004', 'name': 'Dũng', 'class': '10A3'},\n",
    "    {'id': 'S005', 'name': 'Hương', 'class': '10A2'},\n",
    "    {'id': 'S006', 'name': 'Lan', 'class': '10A1'},\n",
    "]\n",
    "class_group = {}\n",
    "for student in students_list:\n",
    "    class_group.setdefault(student[\"class\"],[]).append(student)\n",
    "class_group "
   ]
  },
  {
   "cell_type": "code",
   "execution_count": 31,
   "id": "f32b6898",
   "metadata": {},
   "outputs": [
    {
     "data": {
      "text/plain": [
       "['fig', 'kiwi', 'apple', 'grape', 'banana', 'cherry']"
      ]
     },
     "execution_count": 31,
     "metadata": {},
     "output_type": "execute_result"
    }
   ],
   "source": [
    "# 5\tSắp xếp danh sách từ theo độ dài, nếu bằng nhau thì theo alphabet.\n",
    "words = [\"banana\", \"fig\", \"apple\", \"grape\", \"cherry\", \"kiwi\"]\n",
    "words_sorted = sorted(words, key=lambda word: (len(word), word)) #so sánh theo tuple \n",
    "words_sorted"
   ]
  },
  {
   "cell_type": "code",
   "execution_count": 32,
   "id": "29a3acf7",
   "metadata": {},
   "outputs": [
    {
     "data": {
      "text/plain": [
       "[4, 16, 36, 64, 100]"
      ]
     },
     "execution_count": 32,
     "metadata": {},
     "output_type": "execute_result"
    }
   ],
   "source": [
    "# 6\tSinh list bình phương các số lẻ từ 1..n bằng list comprehension.\n",
    "numbers = [1,2,3,4,5,6,7,8,9,10]\n",
    "numbers_square = [number**2 for number in numbers if number%2 == 0]\n",
    "numbers_square"
   ]
  },
  {
   "cell_type": "code",
   "execution_count": 33,
   "id": "350173bd",
   "metadata": {},
   "outputs": [
    {
     "data": {
      "text/plain": [
       "[[1, 2, 3, 4, 5],\n",
       " [6, 7, 8, 9, 10],\n",
       " [11, 12, 13, 14, 15],\n",
       " [16, 17, 18, 19, 20],\n",
       " [21, 22, 23, 24, 25]]"
      ]
     },
     "execution_count": 33,
     "metadata": {},
     "output_type": "execute_result"
    }
   ],
   "source": [
    "# 7\tTạo ma trận n x n danh số tăng dần theo hàng.\n",
    "n = 5 \n",
    "A = [[(i * n) + j + 1 for j in range(n)] for i in range(n)]\n",
    "A "
   ]
  },
  {
   "cell_type": "code",
   "execution_count": null,
   "id": "c6329d93",
   "metadata": {},
   "outputs": [
    {
     "name": "stdout",
     "output_type": "stream",
     "text": [
      "Mạng hiện tại: 6\n",
      "Ẩn số: _ _ _ _ _ _\n",
      "Mạng hiện tại: 6\n",
      "Ẩn số: P _ _ _ _ _\n",
      "Mạng hiện tại: 6\n",
      "Ẩn số: P _ T _ _ _\n",
      "Mạng hiện tại: 6\n",
      "Ẩn số: P Y T _ _ _\n",
      "Mạng hiện tại: 6\n",
      "Ẩn số: P Y T H _ _\n",
      "Mạng hiện tại: 6\n",
      "Ẩn số: P Y T H O _\n",
      "Bạn đã thắng\n",
      "Chúc mừng bạn đã giải mã thành công ẩn số: PYTHON\n"
     ]
    }
   ],
   "source": [
    "# 8\tViết trò chơi đoán chữ (hangman mini) bằng vòng lặp.\n",
    "secret_word = \"PYTHON\"     # khởi tạo keyword mặc định \n",
    "lives = len(secret_word)   # số lần thử bằng chiều dài keyword\n",
    "guessed_letters = set()    # chứ kí tự đã đoán \n",
    "display_list = [\"_\"] * len(secret_word)         # hiển thị ẩn số cho người chơi\n",
    "\n",
    "while True:\n",
    "\n",
    "    print(f\"Mạng hiện tại: {lives}\")\n",
    "    print(f\"Ẩn số: { \" \".join(display_list)}\")\n",
    "\n",
    "    guess = input(\"Nhập kí tự: \").upper().strip()   # validate \n",
    "    if not isinstance(guess,str) or len(guess) != 1:    # kiểm tra có phải char hay không\n",
    "        continue    # Nếu không phải thì cho nhập lại \n",
    "    if guess in guessed_letters:   # check thử user đã từng nhập char này chưa \n",
    "        print(f\"Bạn đã đoán chữ '{guess}' này rồi! Hãy thử chữ khác.\")\n",
    "        continue \n",
    "    if guess in secret_word:  \n",
    "        guessed_letters.add(guess)\n",
    "        for index, char in enumerate(secret_word):    # lấy key để hiển thị những từ đoán đúng \n",
    "            if char == guess:\n",
    "              display_list[index] = guess\n",
    "    else: # đưa char đã sai vào set những char đã nhập & Mạng - 1 \n",
    "        print(f\"{guess} không có trong ẩn số: Mạng - 1 \")\n",
    "        guessed_letters.add(guess)\n",
    "        lives -= 1 \n",
    "    if lives == 0 :\n",
    "        print(\"Bạn đã thua\")\n",
    "        print(f\"Kết quả đúng phải là: {secret_word}\")\n",
    "        break \n",
    "    if \"_\" not in set(display_list):\n",
    "        print(\"Bạn đã thắng\")\n",
    "        print(f\"Chúc mừng bạn đã giải mã thành công ẩn số: {secret_word}\")\n",
    "        break \n"
   ]
  },
  {
   "cell_type": "code",
   "execution_count": null,
   "id": "6b0e62c7",
   "metadata": {},
   "outputs": [
    {
     "data": {
      "text/plain": [
       "{'INFO': 4, 'WARN': 2, 'ERROR': 3}"
      ]
     },
     "execution_count": 43,
     "metadata": {},
     "output_type": "execute_result"
    }
   ],
   "source": [
    "# 3) Mini Project\n",
    "# Trình đọc log: đọc file .txt, đếm lỗi theo cấp độ (INFO/WARN/ERROR) và in thống kê.\n",
    "target_levels = {'INFO', 'WARN', 'ERROR'}\n",
    "log_counts = {}\n",
    "with open('log.txt', 'r') as f:\n",
    "    for line in f :\n",
    "        if not line.strip() :   # kiểm tra truthy \n",
    "            continue \n",
    "        else:\n",
    "            log = line.strip().split(\":\",1)   # chia title và content \n",
    "            if len(log) < 2 : # nếu đúng định dạng thì len == 2 \n",
    "                continue   # sai nên bỏ qua \n",
    "            elif log[0].upper() not in target_levels:   # chuẩn hoá và kiểm tra in \n",
    "                continue \n",
    "            else:\n",
    "                log_counts[log[0]] = log_counts.get(log[0],0) + 1 # thêm vào dict \n",
    "log_counts\n",
    "        "
   ]
  },
  {
   "cell_type": "code",
   "execution_count": null,
   "id": "c338d368",
   "metadata": {},
   "outputs": [],
   "source": []
  }
 ],
 "metadata": {
  "kernelspec": {
   "display_name": "base",
   "language": "python",
   "name": "python3"
  },
  "language_info": {
   "codemirror_mode": {
    "name": "ipython",
    "version": 3
   },
   "file_extension": ".py",
   "mimetype": "text/x-python",
   "name": "python",
   "nbconvert_exporter": "python",
   "pygments_lexer": "ipython3",
   "version": "3.12.4"
  }
 },
 "nbformat": 4,
 "nbformat_minor": 5
}
